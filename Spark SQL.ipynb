{
 "cells": [
  {
   "cell_type": "code",
   "execution_count": 4,
   "id": "312b3774",
   "metadata": {},
   "outputs": [
    {
     "data": {
      "text/plain": [
       "(<pyspark.sql.session.SparkSession at 0x7fb120fd9dc0>,\n",
       " <SparkContext master=local[*] appName=PySparkShell>)"
      ]
     },
     "execution_count": 4,
     "metadata": {},
     "output_type": "execute_result"
    }
   ],
   "source": [
    "spark, sc"
   ]
  },
  {
   "cell_type": "code",
   "execution_count": null,
   "id": "f9c18ed7",
   "metadata": {},
   "outputs": [],
   "source": [
    "agents = spark.read.json(\"agents.json\")\n",
    "agents"
   ]
  },
  {
   "cell_type": "code",
   "execution_count": null,
   "id": "e118d9c9",
   "metadata": {},
   "outputs": [],
   "source": [
    "french_agents = agents.filter(agents[\"country_name\"] == \"France\")\n",
    "french_agents"
   ]
  },
  {
   "cell_type": "code",
   "execution_count": null,
   "id": "2244442e",
   "metadata": {},
   "outputs": [],
   "source": [
    "french_agents.count()"
   ]
  },
  {
   "cell_type": "code",
   "execution_count": null,
   "id": "0e942ac5",
   "metadata": {},
   "outputs": [],
   "source": [
    "agent = french_agents.first()\n",
    "agent"
   ]
  },
  {
   "cell_type": "code",
   "execution_count": null,
   "id": "5f275fc1",
   "metadata": {},
   "outputs": [],
   "source": [
    "agent[\"country_name\"], agent.id"
   ]
  },
  {
   "cell_type": "code",
   "execution_count": null,
   "id": "6f3e8b74",
   "metadata": {},
   "outputs": [],
   "source": [
    "agents.filter(agents[\"country_name\"] == \"France\")\\\n",
    "    .filter(agents[\"latitude\"] < 0).count()"
   ]
  },
  {
   "cell_type": "code",
   "execution_count": null,
   "id": "0040f428",
   "metadata": {},
   "outputs": [],
   "source": [
    "agents.filter((agents[\"country_name\"] == \"France\") \n",
    "              & \n",
    "              (agents[\"latitude\"] < 0)).count()"
   ]
  },
  {
   "cell_type": "code",
   "execution_count": null,
   "id": "91ed2bfd",
   "metadata": {
    "scrolled": true
   },
   "outputs": [],
   "source": [
    "agents.limit(5).show()"
   ]
  },
  {
   "cell_type": "code",
   "execution_count": null,
   "id": "0759716e",
   "metadata": {},
   "outputs": [],
   "source": [
    "agents.createTempView(\"agents\")"
   ]
  },
  {
   "cell_type": "code",
   "execution_count": null,
   "id": "fef5377e",
   "metadata": {},
   "outputs": [],
   "source": [
    "spark.sql(\"SELECT * FROM agents ORDER BY id DESC LIMIT 10\").show()"
   ]
  },
  {
   "cell_type": "code",
   "execution_count": null,
   "id": "fd383b7f",
   "metadata": {},
   "outputs": [],
   "source": [
    "agents.persist()"
   ]
  },
  {
   "cell_type": "code",
   "execution_count": null,
   "id": "46d5ec98",
   "metadata": {},
   "outputs": [],
   "source": [
    "agents.rdd.filter(lambda row: row[\"country_name\"] == \"France\").count()"
   ]
  },
  {
   "cell_type": "code",
   "execution_count": null,
   "id": "76518b7d",
   "metadata": {},
   "outputs": [],
   "source": [
    "from pyspark.sql import Row"
   ]
  },
  {
   "cell_type": "code",
   "execution_count": null,
   "id": "61d31032",
   "metadata": {},
   "outputs": [],
   "source": [
    "rdd = sc.parallelize([Row(name = \"Alice\"), Row(name = \"Bob\")]) \n",
    "spark.createDataFrame(rdd)"
   ]
  },
  {
   "cell_type": "code",
   "execution_count": null,
   "id": "00c3e8c7",
   "metadata": {},
   "outputs": [],
   "source": []
  }
 ],
 "metadata": {
  "kernelspec": {
   "display_name": "Python 3 (ipykernel)",
   "language": "python",
   "name": "python3"
  },
  "language_info": {
   "codemirror_mode": {
    "name": "ipython",
    "version": 3
   },
   "file_extension": ".py",
   "mimetype": "text/x-python",
   "name": "python",
   "nbconvert_exporter": "python",
   "pygments_lexer": "ipython3",
   "version": "3.9.13"
  },
  "vscode": {
   "interpreter": {
    "hash": "ba81384b1679b55bd2da427ccfe442672b757e0dec22df09690074fa17857141"
   }
  }
 },
 "nbformat": 4,
 "nbformat_minor": 5
}
