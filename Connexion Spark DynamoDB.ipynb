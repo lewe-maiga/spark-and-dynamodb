{
 "cells": [
  {
   "cell_type": "code",
   "execution_count": 9,
   "id": "58a2c64b",
   "metadata": {},
   "outputs": [],
   "source": [
    "import boto3"
   ]
  },
  {
   "cell_type": "code",
   "execution_count": 10,
   "id": "1eb65c18",
   "metadata": {},
   "outputs": [],
   "source": [
    "dynamoDB = boto3.resource(\"dynamodb\")"
   ]
  },
  {
   "cell_type": "markdown",
   "id": "cfb4423b",
   "metadata": {},
   "source": [
    "dynamoDB = boto3.resource(\"dynamodb\")\n",
    "\n",
    "dynamoDB"
   ]
  },
  {
   "cell_type": "code",
   "execution_count": 3,
   "id": "0387612c",
   "metadata": {},
   "outputs": [
    {
     "data": {
      "text/plain": [
       "['Table']"
      ]
     },
     "execution_count": 3,
     "metadata": {},
     "output_type": "execute_result"
    }
   ],
   "source": [
    "dynamoDB.get_available_subresources()"
   ]
  },
  {
   "cell_type": "code",
   "execution_count": 4,
   "id": "4ade7e87",
   "metadata": {},
   "outputs": [
    {
     "data": {
      "text/plain": [
       "('ACTIVE',\n",
       " {'Items': [{'id': 'AA01', 'name': 'Lewe Maiga'}],\n",
       "  'Count': 1,\n",
       "  'ScannedCount': 1,\n",
       "  'ResponseMetadata': {'RequestId': 'B1NEVC78J0IDSDQ4LQFBELVKC7VV4KQNSO5AEMVJF66Q9ASUAAJG',\n",
       "   'HTTPStatusCode': 200,\n",
       "   'HTTPHeaders': {'server': 'Server',\n",
       "    'date': 'Sun, 06 Nov 2022 17:23:23 GMT',\n",
       "    'content-type': 'application/x-amz-json-1.0',\n",
       "    'content-length': '84',\n",
       "    'connection': 'keep-alive',\n",
       "    'x-amzn-requestid': 'B1NEVC78J0IDSDQ4LQFBELVKC7VV4KQNSO5AEMVJF66Q9ASUAAJG',\n",
       "    'x-amz-crc32': '1440907153'},\n",
       "   'RetryAttempts': 0}})"
      ]
     },
     "execution_count": 4,
     "metadata": {},
     "output_type": "execute_result"
    }
   ],
   "source": [
    "data = dynamoDB.Table(\"User\")\n",
    "data.table_status, data.scan()"
   ]
  },
  {
   "cell_type": "code",
   "execution_count": 5,
   "id": "44dc17a9",
   "metadata": {},
   "outputs": [
    {
     "data": {
      "text/plain": [
       "DataFrame[id: string, name: string]"
      ]
     },
     "execution_count": 5,
     "metadata": {},
     "output_type": "execute_result"
    }
   ],
   "source": [
    "users = spark.createDataFrame(data.scan()[\"Items\"])\n",
    "users\n"
   ]
  },
  {
   "cell_type": "code",
   "execution_count": 11,
   "id": "020a73a3",
   "metadata": {},
   "outputs": [
    {
     "data": {
      "text/plain": [
       "pyspark.sql.dataframe.DataFrame"
      ]
     },
     "execution_count": 11,
     "metadata": {},
     "output_type": "execute_result"
    }
   ],
   "source": [
    "type(users)"
   ]
  },
  {
   "cell_type": "code",
   "execution_count": 7,
   "id": "57a52358",
   "metadata": {},
   "outputs": [],
   "source": [
    "users.createTempView(\"users\")"
   ]
  },
  {
   "cell_type": "code",
   "execution_count": 12,
   "id": "c6603b7c",
   "metadata": {},
   "outputs": [
    {
     "name": "stdout",
     "output_type": "stream",
     "text": [
      "+----+----------+\n",
      "|  id|      name|\n",
      "+----+----------+\n",
      "|AA01|Lewe Maiga|\n",
      "+----+----------+\n",
      "\n"
     ]
    }
   ],
   "source": [
    "spark.sql(\"SELECT * FROM users\").show()"
   ]
  }
 ],
 "metadata": {
  "kernelspec": {
   "display_name": "Python 3.9.13 ('base')",
   "language": "python",
   "name": "python3"
  },
  "language_info": {
   "codemirror_mode": {
    "name": "ipython",
    "version": 3
   },
   "file_extension": ".py",
   "mimetype": "text/x-python",
   "name": "python",
   "nbconvert_exporter": "python",
   "pygments_lexer": "ipython3",
   "version": "3.9.13"
  },
  "vscode": {
   "interpreter": {
    "hash": "ba81384b1679b55bd2da427ccfe442672b757e0dec22df09690074fa17857141"
   }
  }
 },
 "nbformat": 4,
 "nbformat_minor": 5
}
